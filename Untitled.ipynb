{
 "cells": [
  {
   "cell_type": "code",
   "execution_count": 9,
   "id": "a9f682fd-3dc1-4221-948d-8d5f5ffea7b1",
   "metadata": {},
   "outputs": [],
   "source": [
    "import numpy as np # linear algebra\n",
    "import pandas as pd # data processing, CSV file I/O (e.g. pd.read_csv)\n",
    "\n",
    "# Input data files are available in the read-only \"../input/\" directory\n",
    "# For example, running this (by clicking run or pressing Shift+Enter) will list all files under the input directory\n",
    "\n",
    "import os\n",
    "for dirname, _, filenames in os.walk('/kaggle/input'):\n",
    "    for filename in filenames:\n",
    "        print(os.path.join(dirname, filename))"
   ]
  },
  {
   "cell_type": "code",
   "execution_count": 10,
   "id": "dac02610-df2f-4df4-a794-51da79243103",
   "metadata": {},
   "outputs": [],
   "source": [
    "import os, glob\n",
    "import numpy as npi\n",
    "import seaborn as sns\n",
    "import matplotlib.pyplot as plt\n",
    "import pandas as pd\n",
    "from sklearn.model_selection import train_test_split #splits data for training and testing\n",
    "from tensorflow.keras.preprocessing.image import ImageDataGenerator\n",
    "from tensorflow.keras.models import Model\n",
    "from tensorflow.keras.layers import Conv2D, MaxPooling2D, Flatten, Dense, Dropout\n",
    "from tensorflow.keras.callbacks import Callback, EarlyStopping\n",
    "from tensorflow.keras.applications import ResNet50\n",
    "from tensorflow.keras.applications.resnet50 import preprocess_input\n",
    "from sklearn.metrics import classification_report"
   ]
  },
  {
   "cell_type": "code",
   "execution_count": 8,
   "id": "67271a22-cbcb-46fd-99f3-421c12c44682",
   "metadata": {},
   "outputs": [],
   "source": [
    "import os, glob\n",
    "import numpy as npi\n",
    "import seaborn as sns\n",
    "import matplotlib.pyplot as plt\n",
    "import pandas as pd\n",
    "from sklearn.model_selection import train_test_split #splits data for training and testing\n",
    "from tensorflow.keras.preprocessing.image import ImageDataGenerator\n",
    "from tensorflow.keras.models import Model\n",
    "from tensorflow.keras.layers import Conv2D, MaxPooling2D, Flatten, Dense, Dropout\n",
    "from tensorflow.keras.callbacks import Callback, EarlyStopping\n",
    "from tensorflow.keras.applications import ResNet50\n",
    "from tensorflow.keras.applications.resnet50 import preprocess_input\n",
    "from sklearn.metrics import classification_report"
   ]
  },
  {
   "cell_type": "code",
   "execution_count": 14,
   "id": "26d02fc8-37f0-454c-8493-444cf91ca7c8",
   "metadata": {},
   "outputs": [
    {
     "name": "stdout",
     "output_type": "stream",
     "text": [
      "['A+', 'A-', 'AB+', 'AB-', 'B+', 'B-', 'O+', 'O-']\n"
     ]
    }
   ],
   "source": [
    "import os\n",
    "\n",
    "# Use either of the two methods above\n",
    "filepath = r\"C:\\Users\\Roshni\\OneDrive\\Desktop\\Blood_group detection by fingerprints\\data_set\\dataset_blood_group\"  # Raw string or escaped backslashes\n",
    "blood_groups = os.listdir(filepath)  # List files in the directory\n",
    "print(blood_groups)  # Print the list of files\n"
   ]
  },
  {
   "cell_type": "code",
   "execution_count": 15,
   "id": "8b27f715-ddf4-4677-98ee-48df51214769",
   "metadata": {},
   "outputs": [],
   "source": [
    "all_file_paths = []\n",
    "y = []\n",
    "count=0\n",
    "\n",
    "for root,dirs,files in os.walk(filepath):\n",
    "    if(len(files)!=0):\n",
    "        for file in files:\n",
    "            all_file_paths.append(os.path.join(root,file))\n",
    "            y.append(blood_groups[count])\n",
    "        count = count+1"
   ]
  },
  {
   "cell_type": "code",
   "execution_count": 16,
   "id": "cd292513-573f-4e13-9054-f7d2f7fa5ffc",
   "metadata": {},
   "outputs": [
    {
     "data": {
      "text/html": [
       "<div>\n",
       "<style scoped>\n",
       "    .dataframe tbody tr th:only-of-type {\n",
       "        vertical-align: middle;\n",
       "    }\n",
       "\n",
       "    .dataframe tbody tr th {\n",
       "        vertical-align: top;\n",
       "    }\n",
       "\n",
       "    .dataframe thead th {\n",
       "        text-align: right;\n",
       "    }\n",
       "</style>\n",
       "<table border=\"1\" class=\"dataframe\">\n",
       "  <thead>\n",
       "    <tr style=\"text-align: right;\">\n",
       "      <th></th>\n",
       "      <th>files</th>\n",
       "      <th>blood_group</th>\n",
       "    </tr>\n",
       "  </thead>\n",
       "  <tbody>\n",
       "    <tr>\n",
       "      <th>0</th>\n",
       "      <td>C:\\Users\\Roshni\\OneDrive\\Desktop\\Blood_group d...</td>\n",
       "      <td>A+</td>\n",
       "    </tr>\n",
       "    <tr>\n",
       "      <th>1</th>\n",
       "      <td>C:\\Users\\Roshni\\OneDrive\\Desktop\\Blood_group d...</td>\n",
       "      <td>A+</td>\n",
       "    </tr>\n",
       "    <tr>\n",
       "      <th>2</th>\n",
       "      <td>C:\\Users\\Roshni\\OneDrive\\Desktop\\Blood_group d...</td>\n",
       "      <td>A+</td>\n",
       "    </tr>\n",
       "    <tr>\n",
       "      <th>3</th>\n",
       "      <td>C:\\Users\\Roshni\\OneDrive\\Desktop\\Blood_group d...</td>\n",
       "      <td>A+</td>\n",
       "    </tr>\n",
       "    <tr>\n",
       "      <th>4</th>\n",
       "      <td>C:\\Users\\Roshni\\OneDrive\\Desktop\\Blood_group d...</td>\n",
       "      <td>A+</td>\n",
       "    </tr>\n",
       "  </tbody>\n",
       "</table>\n",
       "</div>"
      ],
      "text/plain": [
       "                                               files blood_group\n",
       "0  C:\\Users\\Roshni\\OneDrive\\Desktop\\Blood_group d...          A+\n",
       "1  C:\\Users\\Roshni\\OneDrive\\Desktop\\Blood_group d...          A+\n",
       "2  C:\\Users\\Roshni\\OneDrive\\Desktop\\Blood_group d...          A+\n",
       "3  C:\\Users\\Roshni\\OneDrive\\Desktop\\Blood_group d...          A+\n",
       "4  C:\\Users\\Roshni\\OneDrive\\Desktop\\Blood_group d...          A+"
      ]
     },
     "execution_count": 16,
     "metadata": {},
     "output_type": "execute_result"
    }
   ],
   "source": [
    "data = pd.DataFrame()\n",
    "data['files'] = all_file_paths\n",
    "data['blood_group'] = y\n",
    "data.head()"
   ]
  },
  {
   "cell_type": "code",
   "execution_count": 17,
   "id": "a7fefdef-999a-4525-a79f-879177a1c147",
   "metadata": {},
   "outputs": [
    {
     "data": {
      "text/plain": [
       "(6000, 2)"
      ]
     },
     "execution_count": 17,
     "metadata": {},
     "output_type": "execute_result"
    }
   ],
   "source": [
    "\n",
    "data.shape"
   ]
  },
  {
   "cell_type": "code",
   "execution_count": 21,
   "id": "6bddc627-22d9-42c4-8ca1-559db4445367",
   "metadata": {},
   "outputs": [
    {
     "data": {
      "image/png": "[encoded data removed]",
      "text/plain": [
       "<Figure size 640x480 with 1 Axes>"
      ]
     },
     "metadata": {},
     "output_type": "display_data"
    }
   ],
   "source": [
    "counts = data.blood_group.value_counts()\n",
    "\n",
    "# Use a custom list of colors\n",
    "sns.barplot(x=counts.index, y=counts, hue=counts.index, palette=[\"#FF6347\", \"#4682B4\", \"#32CD32\", \"#FFD700\", \"#8A2BE2\", \"#A52A2A\", \"#7FFF00\", \"#D2691E\"])\n",
    "plt.xlabel(\"Blood Group Type\")\n",
    "plt.xticks(rotation=90)\n",
    "plt.show()"
   ]
  },
  {
   "cell_type": "code",
   "execution_count": 22,
   "id": "415b7527-6739-4978-a41e-5b89abae9bca",
   "metadata": {},
   "outputs": [],
   "source": [
    "train_df,test_df = train_test_split(data,test_size=0.25,random_state=42)"
   ]
  },
  {
   "cell_type": "markdown",
   "id": "8d949897-f289-4489-a07c-ebe606057092",
   "metadata": {},
   "source": [
    "# Converting images to data"
   ]
  },
  {
   "cell_type": "code",
   "execution_count": 23,
   "id": "f2cad754-68d9-4aec-877a-72653a179907",
   "metadata": {},
   "outputs": [],
   "source": [
    "train_data_generator = ImageDataGenerator(preprocessing_function=preprocess_input)\n",
    "test_data_generator = ImageDataGenerator(preprocessing_function=preprocess_input)"
   ]
  },
  {
   "cell_type": "code",
   "execution_count": 24,
   "id": "710680a0-0401-401b-ab88-586322d123fa",
   "metadata": {},
   "outputs": [
    {
     "name": "stdout",
     "output_type": "stream",
     "text": [
      "Found 4500 validated image filenames belonging to 8 classes.\n",
      "Found 1500 validated image filenames belonging to 8 classes.\n",
      "Found 1500 validated image filenames belonging to 8 classes.\n"
     ]
    }
   ],
   "source": [
    "## using the data generator\n",
    "train_generation = train_data_generator.flow_from_dataframe(\n",
    "    dataframe = train_df,\n",
    "    x_col = 'files',\n",
    "    y_col = 'blood_group',\n",
    "    target_size = (256,256),\n",
    "    class_mode = 'categorical',\n",
    "    batch_size = 32,\n",
    "    shuffle = True,\n",
    "    seed = 42\n",
    ")\n",
    "\n",
    "val_generation = train_data_generator.flow_from_dataframe(\n",
    "    dataframe = test_df,\n",
    "    x_col = 'files',\n",
    "    y_col = 'blood_group',\n",
    "    target_size = (256,256),\n",
    "    class_mode = 'categorical',\n",
    "    batch_size = 32,\n",
    "    shuffle = True,\n",
    "    seed = 42\n",
    ")\n",
    "test_generation = test_data_generator.flow_from_dataframe(\n",
    "    dataframe = test_df,\n",
    "    x_col = 'files',\n",
    "    y_col = 'blood_group',\n",
    "    target_size = (256,256),\n",
    "    class_mode = 'categorical',\n",
    "    batch_size = 32,\n",
    "    shuffle = True,\n",
    "    seed = 42\n",
    ")"
   ]
  },
  {
   "cell_type": "markdown",
   "id": "7aaecb17-5b3e-484f-9b26-43f067874c95",
   "metadata": {},
   "source": [
    "# Using a pretrained resnet"
   ]
  },
  {
   "cell_type": "code",
   "execution_count": 25,
   "id": "1d64b0ca-8276-4e1a-ba44-3b3ac44150f3",
   "metadata": {},
   "outputs": [
    {
     "name": "stdout",
     "output_type": "stream",
     "text": [
      "Downloading data from https://storage.googleapis.com/tensorflow/keras-applications/resnet/resnet50_weights_tf_dim_ordering_tf_kernels_notop.h5\n",
      "\u001b[1m94765736/94765736\u001b[0m \u001b[32m━━━━━━━━━━━━━━━━━━━━\u001b[0m\u001b[37m\u001b[0m \u001b[1m19s\u001b[0m 0us/step\n"
     ]
    }
   ],
   "source": [
    "resnet_model = ResNet50(\n",
    "    input_shape=(256,256,3),\n",
    "    include_top=False,\n",
    "    weights = 'imagenet',\n",
    "    pooling= 'avg',\n",
    ")\n",
    "resnet_model.trainable = False"
   ]
  },
  {
   "cell_type": "code",
   "execution_count": 26,
   "id": "ce65f7aa-6605-4c48-b970-2601f145e88f",
   "metadata": {},
   "outputs": [],
   "source": [
    "resnet_input= resnet_model.input\n",
    "dense_input = resnet_model.output\n",
    "x = Dense(128, activation='relu')(dense_input)\n",
    "x = Dense(128, activation = 'relu')(x)\n",
    "\n",
    "output = Dense(8,activation='softmax')(x)\n",
    "\n",
    "model = Model(inputs = resnet_input, outputs=output)"
   ]
  },
  {
   "cell_type": "code",
   "execution_count": 27,
   "id": "6e42b4fc-3b91-4e33-a44d-afb9562879d2",
   "metadata": {},
   "outputs": [],
   "source": [
    "model.compile(loss='categorical_crossentropy',optimizer='adam',metrics=['accuracy'])"
   ]
  },
  {
   "cell_type": "code",
   "execution_count": 30,
   "id": "e9564038-8677-45ef-b016-4b7c0178bfa8",
   "metadata": {},
   "outputs": [
    {
     "name": "stdout",
     "output_type": "stream",
     "text": [
      "Epoch 1/5\n",
      "\u001b[1m141/141\u001b[0m \u001b[32m━━━━━━━━━━━━━━━━━━━━\u001b[0m\u001b[37m\u001b[0m \u001b[1m327s\u001b[0m 2s/step - accuracy: 0.9399 - loss: 0.1608 - val_accuracy: 0.8067 - val_loss: 0.7459\n",
      "Epoch 2/5\n",
      "\u001b[1m141/141\u001b[0m \u001b[32m━━━━━━━━━━━━━━━━━━━━\u001b[0m\u001b[37m\u001b[0m \u001b[1m339s\u001b[0m 2s/step - accuracy: 0.9682 - loss: 0.0956 - val_accuracy: 0.8307 - val_loss: 0.6644\n",
      "Epoch 3/5\n",
      "\u001b[1m141/141\u001b[0m \u001b[32m━━━━━━━━━━━━━━━━━━━━\u001b[0m\u001b[37m\u001b[0m \u001b[1m340s\u001b[0m 2s/step - accuracy: 0.9849 - loss: 0.0460 - val_accuracy: 0.8200 - val_loss: 0.6696\n",
      "Epoch 4/5\n",
      "\u001b[1m141/141\u001b[0m \u001b[32m━━━━━━━━━━━━━━━━━━━━\u001b[0m\u001b[37m\u001b[0m \u001b[1m344s\u001b[0m 2s/step - accuracy: 0.9814 - loss: 0.0514 - val_accuracy: 0.8187 - val_loss: 0.6966\n",
      "Epoch 5/5\n",
      "\u001b[1m141/141\u001b[0m \u001b[32m━━━━━━━━━━━━━━━━━━━━\u001b[0m\u001b[37m\u001b[0m \u001b[1m352s\u001b[0m 2s/step - accuracy: 0.9730 - loss: 0.0725 - val_accuracy: 0.8293 - val_loss: 0.6889\n"
     ]
    }
   ],
   "source": [
    "history = model.fit(train_generation,validation_data=val_generation,epochs=5)"
   ]
  },
  {
   "cell_type": "code",
   "execution_count": null,
   "id": "4d05c3e0-1bf5-4fef-91c9-86391d899072",
   "metadata": {},
   "outputs": [],
   "source": []
  }
 ],
 "metadata": {
  "kernelspec": {
   "display_name": "Python 3 (ipykernel)",
   "language": "python",
   "name": "python3"
  },
  "language_info": {
   "codemirror_mode": {
    "name": "ipython",
    "version": 3
   },
   "file_extension": ".py",
   "mimetype": "text/x-python",
   "name": "python",
   "nbconvert_exporter": "python",
   "pygments_lexer": "ipython3",
   "version": "3.12.2"
  }
 },
 "nbformat": 4,
 "nbformat_minor": 5
}
